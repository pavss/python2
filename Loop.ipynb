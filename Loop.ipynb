{
  "nbformat": 4,
  "nbformat_minor": 0,
  "metadata": {
    "colab": {
      "name": "Untitled25.ipynb",
      "provenance": [],
      "include_colab_link": true
    },
    "kernelspec": {
      "name": "python3",
      "display_name": "Python 3"
    },
    "language_info": {
      "name": "python"
    }
  },
  "cells": [
    {
      "cell_type": "markdown",
      "metadata": {
        "id": "view-in-github",
        "colab_type": "text"
      },
      "source": [
        "<a href=\"https://colab.research.google.com/github/pavss/python2/blob/main/Loop.ipynb\" target=\"_parent\"><img src=\"https://colab.research.google.com/assets/colab-badge.svg\" alt=\"Open In Colab\"/></a>"
      ]
    },
    {
      "cell_type": "code",
      "source": [
        "num = int(input(\"Enter a number: \"))\n",
        "b = 0\n",
        "p = 1\n",
        "n = num\n",
        "\n",
        "while n>0:\n",
        "    rem = n%2\n",
        "    b += rem * p\n",
        "    p = p*10\n",
        "    n = n//2\n",
        "\n",
        "print (\"Binary value: \",b)"
      ],
      "metadata": {
        "id": "_zQ8mjeJD0PU",
        "outputId": "0ad348e3-b722-4c78-fc11-e1f755a671d4",
        "colab": {
          "base_uri": "https://localhost:8080/"
        }
      },
      "execution_count": null,
      "outputs": [
        {
          "output_type": "stream",
          "name": "stdout",
          "text": [
            "Enter a number: 5\n",
            "Binary value:  101\n"
          ]
        }
      ]
    },
    {
      "cell_type": "code",
      "source": [
        "tup = (1,2,3,4,5,6,7,8,9,10)\n",
        "\n",
        "a = 0\n",
        "b = 0\n",
        "count = 0\n",
        "for y in tup:\n",
        "   b+=y\n",
        "   count +=1\n",
        "mean = b/count\n",
        "print(mean)\n",
        "for x in tup:\n",
        "  a+=x\n",
        "  if a >= mean:\n",
        "    a-= x\n",
        "    break\n",
        "\n",
        "print(a)"
      ],
      "metadata": {
        "id": "1jym1CW_HHEy",
        "outputId": "102eab93-b8a4-4c68-8fe3-f7a9c0129aee",
        "colab": {
          "base_uri": "https://localhost:8080/"
        }
      },
      "execution_count": null,
      "outputs": [
        {
          "output_type": "stream",
          "name": "stdout",
          "text": [
            "5.5\n",
            "3\n"
          ]
        }
      ]
    },
    {
      "cell_type": "code",
      "source": [
        "list = []\n",
        "\n",
        "num = int(input(\"Enter a number: \"))\n",
        "for i in range(num):\n",
        "  value = int(input(\"Enter the %d item : \" %i))\n",
        "  list.append(value)\n",
        "\n",
        "for i in range(num -1):\n",
        "    for j in range(num - i - 1):\n",
        "      if(list[j] > list[j + 1]):\n",
        "        temp = list[j]\n",
        "        list[j] = list[j + 1]\n",
        "        list[j + 1] = temp\n",
        "\n",
        "print(\"The result in ascending order : \",list)"
      ],
      "metadata": {
        "id": "dpZSiLkdH9xl",
        "outputId": "5b3a7255-c17b-4b82-8ee8-d01c53115b61",
        "colab": {
          "base_uri": "https://localhost:8080/"
        }
      },
      "execution_count": null,
      "outputs": [
        {
          "output_type": "stream",
          "name": "stdout",
          "text": [
            "Enter a number: 5\n",
            "Enter the 0 item : 2\n",
            "Enter the 1 item : 89\n",
            "Enter the 2 item : 4\n",
            "Enter the 3 item : 1\n",
            "Enter the 4 item : 9\n",
            "The result in ascending order :  [1, 2, 4, 9, 89]\n"
          ]
        }
      ]
    }
  ]
}