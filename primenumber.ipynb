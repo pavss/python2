{
  "nbformat": 4,
  "nbformat_minor": 0,
  "metadata": {
    "colab": {
      "name": "Untitled8.ipynb",
      "provenance": [],
      "authorship_tag": "ABX9TyPaX4esM2KzidWB1lgYnwyb",
      "include_colab_link": true
    },
    "kernelspec": {
      "name": "python3",
      "display_name": "Python 3"
    },
    "language_info": {
      "name": "python"
    }
  },
  "cells": [
    {
      "cell_type": "markdown",
      "metadata": {
        "id": "view-in-github",
        "colab_type": "text"
      },
      "source": [
        "<a href=\"https://colab.research.google.com/github/pavss/python2/blob/main/primenumber.ipynb\" target=\"_parent\"><img src=\"https://colab.research.google.com/assets/colab-badge.svg\" alt=\"Open In Colab\"/></a>"
      ]
    },
    {
      "cell_type": "code",
      "execution_count": 1,
      "metadata": {
        "colab": {
          "base_uri": "https://localhost:8080/"
        },
        "id": "DjLYecMKDt6I",
        "outputId": "9562786d-62ed-4c0e-9468-24670d2ee73f"
      },
      "outputs": [
        {
          "output_type": "stream",
          "name": "stdout",
          "text": [
            "Enter a lower number: 0\n",
            "Enter a upper number: 10\n",
            "\n",
            "Prime numbers between 0 and 10 are: \n",
            "2\n",
            "3\n",
            "5\n",
            "7\n"
          ]
        }
      ],
      "source": [
        "lowerrange = int (input (\"Enter a lower number: \"))\n",
        "upperrange = int (input (\"Enter a upper number: \"))\n",
        "\n",
        "print(\"\\nPrime numbers between\", lowerrange, \"and\", upperrange, \"are: \")\n",
        "\n",
        "for num in range(lowerrange, upperrange + 1):\n",
        "\n",
        "   if num > 1:\n",
        "     for i in range(2, num):\n",
        "       if (num % i) == 0:\n",
        "         break\n",
        "     else:\n",
        "       print(num)"
      ]
    }
  ]
}