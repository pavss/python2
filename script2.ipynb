{
  "nbformat": 4,
  "nbformat_minor": 0,
  "metadata": {
    "colab": {
      "name": "Untitled9.ipynb",
      "provenance": [],
      "authorship_tag": "ABX9TyP8s96rvvxwjfu2GGUl2LXd",
      "include_colab_link": true
    },
    "kernelspec": {
      "name": "python3",
      "display_name": "Python 3"
    },
    "language_info": {
      "name": "python"
    }
  },
  "cells": [
    {
      "cell_type": "markdown",
      "metadata": {
        "id": "view-in-github",
        "colab_type": "text"
      },
      "source": [
        "<a href=\"https://colab.research.google.com/github/pavss/python2/blob/main/script2.ipynb\" target=\"_parent\"><img src=\"https://colab.research.google.com/assets/colab-badge.svg\" alt=\"Open In Colab\"/></a>"
      ]
    },
    {
      "cell_type": "code",
      "execution_count": null,
      "metadata": {
        "id": "YPaMUMynHr5S"
      },
      "outputs": [],
      "source": [
        ""
      ]
    },
    {
      "cell_type": "code",
      "execution_count": null,
      "metadata": {
        "colab": {
          "base_uri": "https://localhost:8080/"
        },
        "id": "DjLYecMKDt6I",
        "outputId": "15b946f4-a37b-4ad3-cbed-8b95480ce5d9"
      },
      "outputs": [
        {
          "output_type": "stream",
          "name": "stdout",
          "text": [
            "Enter a lower number: 10\n",
            "Enter a upper number: 20\n",
            "\n",
            "Prime numbers between 10 and 20 are: \n",
            "11\n",
            "13\n",
            "17\n",
            "19\n"
          ]
        }
      ],
      "source": [
        "lowerrange = int (input (\"Enter a lower number: \"))\n",
        "upperrange = int (input (\"Enter a upper number: \"))\n",
        "\n",
        "print(\"\\nPrime numbers between\", lowerrange, \"and\", upperrange, \"are: \")\n",
        "\n",
        "for num in range(lowerrange, upperrange + 1):\n",
        "\n",
        "   if num > 1:\n",
        "     for i in range(2, num):\n",
        "       if (num % i) == 0:\n",
        "         break\n",
        "     else:\n",
        "       print(num)"
      ]
    },
    {
      "cell_type": "code",
      "source": [
        "lowerrange = int (input (\"Enter a lower number: \"))\n",
        "upperrange = int (input (\"Enter a upper number: \"))\n",
        "\n",
        "print(\"\\nPrime numbers between\", lowerrange, \"and\", upperrange, \"are: \")\n",
        "\n",
        "for num in range(lowerrange + 1, upperrange):\n",
        "\n",
        "   if num > 1:\n",
        "     for i in range(2, num):\n",
        "       if (num % i) == 0:\n",
        "         break\n",
        "     else:\n",
        "       print(num)"
      ],
      "metadata": {
        "id": "5AuRp5aDKZcr",
        "outputId": "dae041b6-3031-4c47-9b7e-79f22b735077",
        "colab": {
          "base_uri": "https://localhost:8080/"
        }
      },
      "execution_count": 2,
      "outputs": [
        {
          "output_type": "stream",
          "name": "stdout",
          "text": [
            "Enter a lower number: 13\n",
            "Enter a upper number: 23\n",
            "\n",
            "Prime numbers between 13 and 23 are: \n",
            "17\n",
            "19\n"
          ]
        }
      ]
    }
  ]
}