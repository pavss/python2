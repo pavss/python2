{
  "nbformat": 4,
  "nbformat_minor": 0,
  "metadata": {
    "colab": {
      "name": "Untitled9.ipynb",
      "provenance": [],
      "authorship_tag": "ABX9TyMBBC6ATsINRufn9zNEiVop",
      "include_colab_link": true
    },
    "kernelspec": {
      "name": "python3",
      "display_name": "Python 3"
    },
    "language_info": {
      "name": "python"
    }
  },
  "cells": [
    {
      "cell_type": "markdown",
      "metadata": {
        "id": "view-in-github",
        "colab_type": "text"
      },
      "source": [
        "<a href=\"https://colab.research.google.com/github/pavss/python2/blob/main/script2.ipynb\" target=\"_parent\"><img src=\"https://colab.research.google.com/assets/colab-badge.svg\" alt=\"Open In Colab\"/></a>"
      ]
    },
    {
      "cell_type": "code",
      "execution_count": null,
      "metadata": {
        "id": "YPaMUMynHr5S"
      },
      "outputs": [],
      "source": [
        ""
      ]
    },
    {
      "cell_type": "code",
      "execution_count": 1,
      "metadata": {
        "colab": {
          "base_uri": "https://localhost:8080/"
        },
        "id": "DjLYecMKDt6I",
        "outputId": "15b946f4-a37b-4ad3-cbed-8b95480ce5d9"
      },
      "outputs": [
        {
          "output_type": "stream",
          "name": "stdout",
          "text": [
            "Enter a lower number: 10\n",
            "Enter a upper number: 20\n",
            "\n",
            "Prime numbers between 10 and 20 are: \n",
            "11\n",
            "13\n",
            "17\n",
            "19\n"
          ]
        }
      ],
      "source": [
        "lowerrange = int (input (\"Enter a lower number: \"))\n",
        "upperrange = int (input (\"Enter a upper number: \"))\n",
        "\n",
        "print(\"\\nPrime numbers between\", lowerrange, \"and\", upperrange, \"are: \")\n",
        "\n",
        "for num in range(lowerrange, upperrange + 1):\n",
        "\n",
        "   if num > 1:\n",
        "     for i in range(2, num):\n",
        "       if (num % i) == 0:\n",
        "         break\n",
        "     else:\n",
        "       print(num)"
      ]
    }
  ]
}