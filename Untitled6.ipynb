{
  "nbformat": 4,
  "nbformat_minor": 0,
  "metadata": {
    "colab": {
      "name": "Untitled6.ipynb",
      "provenance": [],
      "collapsed_sections": []
    },
    "kernelspec": {
      "name": "python3",
      "display_name": "Python 3"
    },
    "language_info": {
      "name": "python"
    }
  },
  "cells": [
    {
      "cell_type": "code",
      "source": [
        "dir(list)"
      ],
      "metadata": {
        "colab": {
          "base_uri": "https://localhost:8080/"
        },
        "id": "8CFRPci8ErY5",
        "outputId": "0b8a1c56-7b96-434d-a432-f34961e04214"
      },
      "execution_count": 51,
      "outputs": [
        {
          "output_type": "execute_result",
          "data": {
            "text/plain": [
              "['__add__',\n",
              " '__class__',\n",
              " '__contains__',\n",
              " '__delattr__',\n",
              " '__delitem__',\n",
              " '__dir__',\n",
              " '__doc__',\n",
              " '__eq__',\n",
              " '__format__',\n",
              " '__ge__',\n",
              " '__getattribute__',\n",
              " '__getitem__',\n",
              " '__gt__',\n",
              " '__hash__',\n",
              " '__iadd__',\n",
              " '__imul__',\n",
              " '__init__',\n",
              " '__init_subclass__',\n",
              " '__iter__',\n",
              " '__le__',\n",
              " '__len__',\n",
              " '__lt__',\n",
              " '__mul__',\n",
              " '__ne__',\n",
              " '__new__',\n",
              " '__reduce__',\n",
              " '__reduce_ex__',\n",
              " '__repr__',\n",
              " '__reversed__',\n",
              " '__rmul__',\n",
              " '__setattr__',\n",
              " '__setitem__',\n",
              " '__sizeof__',\n",
              " '__str__',\n",
              " '__subclasshook__',\n",
              " 'append',\n",
              " 'clear',\n",
              " 'copy',\n",
              " 'count',\n",
              " 'extend',\n",
              " 'index',\n",
              " 'insert',\n",
              " 'pop',\n",
              " 'remove',\n",
              " 'reverse',\n",
              " 'sort']"
            ]
          },
          "metadata": {},
          "execution_count": 51
        }
      ]
    },
    {
      "cell_type": "markdown",
      "source": [
        "**Shows all possible actions and properties of list**"
      ],
      "metadata": {
        "id": "Q3y-1bwnFcDr"
      }
    },
    {
      "cell_type": "code",
      "execution_count": 1,
      "metadata": {
        "colab": {
          "base_uri": "https://localhost:8080/",
          "height": 0
        },
        "id": "5TEd4fIwoTyG",
        "outputId": "86e329d0-9fd3-4e4b-ecfb-1b5a0620fab7"
      },
      "outputs": [
        {
          "output_type": "stream",
          "name": "stdout",
          "text": [
            "['Mary', 'Isabel', 25, 24, False, True]\n"
          ]
        }
      ],
      "source": [
        "mylist = [\"Mary\", \"Isabel\", 25, 24, False, True]\n",
        "print(mylist)"
      ]
    },
    {
      "cell_type": "markdown",
      "source": [
        "#Lists\n",
        "#Ordered and indexed"
      ],
      "metadata": {
        "id": "w9NAL66qofXK"
      }
    },
    {
      "cell_type": "code",
      "source": [
        "mylist = [\"Mary\", \"Isabel\", 25, 24, False, True]\n",
        "print(mylist[3])"
      ],
      "metadata": {
        "colab": {
          "base_uri": "https://localhost:8080/",
          "height": 0
        },
        "id": "XJgc-k7kpTxW",
        "outputId": "3cdffd6f-04f4-43d1-c139-afc540396fbb"
      },
      "execution_count": 2,
      "outputs": [
        {
          "output_type": "stream",
          "name": "stdout",
          "text": [
            "24\n"
          ]
        }
      ]
    },
    {
      "cell_type": "markdown",
      "source": [
        "Access items in a list, \n",
        "Print the third item of the list \n",
        "\n"
      ],
      "metadata": {
        "id": "zJ558INNpxEh"
      }
    },
    {
      "cell_type": "code",
      "source": [
        "mylist.append(\"Pavi\")\n",
        "print(mylist)"
      ],
      "metadata": {
        "colab": {
          "base_uri": "https://localhost:8080/",
          "height": 0
        },
        "id": "yF1fmyDTqBIe",
        "outputId": "6fcb9d63-1753-44c0-e064-d927680e3f6d"
      },
      "execution_count": 3,
      "outputs": [
        {
          "output_type": "stream",
          "name": "stdout",
          "text": [
            "['Mary', 'Isabel', 25, 24, False, True, 'Pavi']\n"
          ]
        }
      ]
    },
    {
      "cell_type": "markdown",
      "source": [
        "append() - Add an item to the end of list"
      ],
      "metadata": {
        "id": "E18_-BkOqXu_"
      }
    },
    {
      "cell_type": "code",
      "source": [
        "mylist.remove(\"Mary\")\n",
        "print(mylist)"
      ],
      "metadata": {
        "colab": {
          "base_uri": "https://localhost:8080/",
          "height": 0
        },
        "id": "QSuD1aPeqgS5",
        "outputId": "e103d6c0-0702-4f20-e2a5-d3224f8eb1b5"
      },
      "execution_count": 4,
      "outputs": [
        {
          "output_type": "stream",
          "name": "stdout",
          "text": [
            "['Isabel', 25, 24, False, True, 'Pavi']\n"
          ]
        }
      ]
    },
    {
      "cell_type": "markdown",
      "source": [
        "Remove an item from the list\n"
      ],
      "metadata": {
        "id": "QzaMJ8hNqsai"
      }
    },
    {
      "cell_type": "code",
      "source": [
        "mylist = [37, 1, 25, 24, 56, 23]\n",
        "mylist.sort(reverse = True)\n",
        "print(mylist)"
      ],
      "metadata": {
        "colab": {
          "base_uri": "https://localhost:8080/",
          "height": 0
        },
        "id": "X0wD2qicq9BJ",
        "outputId": "cf05d5ef-cd05-4c8b-ffcd-26cae84be852"
      },
      "execution_count": 11,
      "outputs": [
        {
          "output_type": "stream",
          "name": "stdout",
          "text": [
            "[56, 37, 25, 24, 23, 1]\n"
          ]
        }
      ]
    },
    {
      "cell_type": "markdown",
      "source": [
        "Sort the list in descending order"
      ],
      "metadata": {
        "id": "68PoF_ywsZYh"
      }
    },
    {
      "cell_type": "code",
      "source": [
        "newlist = mylist.copy()\n",
        "print(newlist)"
      ],
      "metadata": {
        "colab": {
          "base_uri": "https://localhost:8080/",
          "height": 0
        },
        "id": "EtxkXO4qsRU5",
        "outputId": "520ce51b-4ef8-4131-cba1-a6f0d4371fdf"
      },
      "execution_count": 12,
      "outputs": [
        {
          "output_type": "stream",
          "name": "stdout",
          "text": [
            "[56, 37, 25, 24, 23, 1]\n"
          ]
        }
      ]
    },
    {
      "cell_type": "markdown",
      "source": [
        "copy()- Make a copy of mylist as newlist"
      ],
      "metadata": {
        "id": "NOnNTESiswJf"
      }
    },
    {
      "cell_type": "code",
      "source": [
        "mylist1 = [20,21,22,23]\n",
        "mylist2 = [\"Mary\", \"Ben\", \"Amelia\", \"Bobby\"]\n",
        "mylist3 = [\"a\", \"b\", \"c\"]\n",
        "mylist = mylist1 + mylist2 + mylist3\n",
        "print(mylist)"
      ],
      "metadata": {
        "colab": {
          "base_uri": "https://localhost:8080/",
          "height": 0
        },
        "id": "sn8v825ZtALl",
        "outputId": "51f2eb3c-8570-486a-f04e-bbd0688ef283"
      },
      "execution_count": 14,
      "outputs": [
        {
          "output_type": "stream",
          "name": "stdout",
          "text": [
            "[20, 21, 22, 23, 'Mary', 'Ben', 'Amelia', 'Bobby', 'a', 'b', 'c']\n"
          ]
        }
      ]
    },
    {
      "cell_type": "markdown",
      "source": [
        "Join or concatenate two or more lists"
      ],
      "metadata": {
        "id": "Ej8r-xGmuO92"
      }
    },
    {
      "cell_type": "code",
      "source": [
        "mylist = [1,2,3,87,56,43,56,33,23,42,13,33,2,7,9,33]\n",
        "x = mylist.count(33)\n",
        "print(x)"
      ],
      "metadata": {
        "colab": {
          "base_uri": "https://localhost:8080/",
          "height": 0
        },
        "id": "t_7BjsUbuq5e",
        "outputId": "108a6cdf-aee2-40f2-edf6-5762875b9f62"
      },
      "execution_count": 17,
      "outputs": [
        {
          "output_type": "stream",
          "name": "stdout",
          "text": [
            "3\n"
          ]
        }
      ]
    },
    {
      "cell_type": "markdown",
      "source": [
        "Count()- Number of times 33 appears in the list"
      ],
      "metadata": {
        "id": "WfDHyzyQvYx4"
      }
    },
    {
      "cell_type": "code",
      "source": [
        "x = mylist.index(43)\n",
        "print(x)"
      ],
      "metadata": {
        "colab": {
          "base_uri": "https://localhost:8080/",
          "height": 0
        },
        "id": "PBravLiIveHz",
        "outputId": "d45c29d0-54c9-40a4-bcb5-d53e8c0c8238"
      },
      "execution_count": 18,
      "outputs": [
        {
          "output_type": "stream",
          "name": "stdout",
          "text": [
            "5\n"
          ]
        }
      ]
    },
    {
      "cell_type": "markdown",
      "source": [
        "Index() - Position of '43' in the list"
      ],
      "metadata": {
        "id": "Gw8_ny3_LFd6"
      }
    },
    {
      "cell_type": "code",
      "source": [
        "mylist = [\"Samsung\", \"Apple\", \"Nokia\"]\n",
        "newlist = [\"Redmi\", \"Oppo\", \"Vivo\"]\n",
        "mylist.extend(newlist)\n",
        "print(mylist)"
      ],
      "metadata": {
        "colab": {
          "base_uri": "https://localhost:8080/"
        },
        "id": "LFvFjSOjH9Az",
        "outputId": "2227ba5c-68e8-4bb7-9766-8f5da913b049"
      },
      "execution_count": 54,
      "outputs": [
        {
          "output_type": "stream",
          "name": "stdout",
          "text": [
            "['Samsung', 'Apple', 'Nokia', 'Redmi', 'Oppo', 'Vivo']\n"
          ]
        }
      ]
    },
    {
      "cell_type": "markdown",
      "source": [
        "Extend() - Add elements in 'newlist' to 'mylist'"
      ],
      "metadata": {
        "id": "ymJhzHlmvyZt"
      }
    },
    {
      "cell_type": "code",
      "source": [
        "mylist.insert(6,\"oneplus\")\n",
        "print(mylist)"
      ],
      "metadata": {
        "colab": {
          "base_uri": "https://localhost:8080/"
        },
        "id": "RESy_r-fLf7r",
        "outputId": "a9a5f4cc-88e9-4c72-9e85-0c2c97ee4367"
      },
      "execution_count": 56,
      "outputs": [
        {
          "output_type": "stream",
          "name": "stdout",
          "text": [
            "['Samsung', 'Apple', 'Nokia', 'Redmi', 'Oppo', 'Vivo', 'oneplus']\n"
          ]
        }
      ]
    },
    {
      "cell_type": "markdown",
      "source": [
        "Insert()- Insert oneplus as 6th element of mylist"
      ],
      "metadata": {
        "id": "rby-lA7OMEwy"
      }
    },
    {
      "cell_type": "code",
      "source": [
        "mylist.pop(4)\n",
        "print(mylist)"
      ],
      "metadata": {
        "colab": {
          "base_uri": "https://localhost:8080/"
        },
        "id": "AmmgSV_GMa8X",
        "outputId": "3eb1156f-6ddc-459c-8a24-e3fc7a513174"
      },
      "execution_count": 57,
      "outputs": [
        {
          "output_type": "stream",
          "name": "stdout",
          "text": [
            "['Samsung', 'Apple', 'Nokia', 'Redmi', 'Vivo', 'oneplus']\n"
          ]
        }
      ]
    },
    {
      "cell_type": "markdown",
      "source": [
        "pop() - Remove fourth element of mylist"
      ],
      "metadata": {
        "id": "ntSpbz5VMlCD"
      }
    },
    {
      "cell_type": "code",
      "source": [
        "mylist.clear()\n",
        "print(mylist)"
      ],
      "metadata": {
        "colab": {
          "base_uri": "https://localhost:8080/"
        },
        "id": "KGMtfY3-Mss0",
        "outputId": "c00d4c3f-603a-4ef1-df66-e465457810d6"
      },
      "execution_count": 58,
      "outputs": [
        {
          "output_type": "stream",
          "name": "stdout",
          "text": [
            "[]\n"
          ]
        }
      ]
    },
    {
      "cell_type": "markdown",
      "source": [
        "clear() - Remove all elements from mylist"
      ],
      "metadata": {
        "id": "PG1yAillM9TL"
      }
    },
    {
      "cell_type": "code",
      "source": [
        "dir(tuple)"
      ],
      "metadata": {
        "colab": {
          "base_uri": "https://localhost:8080/"
        },
        "id": "3gqybZb4Nylm",
        "outputId": "f96bc2ec-6939-4885-cafd-3578c1cde37b"
      },
      "execution_count": 60,
      "outputs": [
        {
          "output_type": "execute_result",
          "data": {
            "text/plain": [
              "['__add__',\n",
              " '__class__',\n",
              " '__contains__',\n",
              " '__delattr__',\n",
              " '__dir__',\n",
              " '__doc__',\n",
              " '__eq__',\n",
              " '__format__',\n",
              " '__ge__',\n",
              " '__getattribute__',\n",
              " '__getitem__',\n",
              " '__getnewargs__',\n",
              " '__gt__',\n",
              " '__hash__',\n",
              " '__init__',\n",
              " '__init_subclass__',\n",
              " '__iter__',\n",
              " '__le__',\n",
              " '__len__',\n",
              " '__lt__',\n",
              " '__mul__',\n",
              " '__ne__',\n",
              " '__new__',\n",
              " '__reduce__',\n",
              " '__reduce_ex__',\n",
              " '__repr__',\n",
              " '__rmul__',\n",
              " '__setattr__',\n",
              " '__sizeof__',\n",
              " '__str__',\n",
              " '__subclasshook__',\n",
              " 'count',\n",
              " 'index']"
            ]
          },
          "metadata": {},
          "execution_count": 60
        }
      ]
    },
    {
      "cell_type": "markdown",
      "source": [
        "**shows all possible actions of tuples**"
      ],
      "metadata": {
        "id": "XxYmBStTN2gT"
      }
    },
    {
      "cell_type": "code",
      "source": [
        "mytuple = (\"Samsung\", \"Apple\", \"Nokia\", \"Redmi\")\n",
        "print(mytuple)"
      ],
      "metadata": {
        "colab": {
          "base_uri": "https://localhost:8080/",
          "height": 0
        },
        "id": "62nq6TINv4xU",
        "outputId": "31fc62f7-bb0f-4df4-8a3b-86083873b150"
      },
      "execution_count": 19,
      "outputs": [
        {
          "output_type": "stream",
          "name": "stdout",
          "text": [
            "('Samsung', 'Apple', 'Nokia', 'Redmi')\n"
          ]
        }
      ]
    },
    {
      "cell_type": "markdown",
      "source": [
        "#Tuples\n",
        "#Readonly\n",
        "#Ordered and Indexed\n"
      ],
      "metadata": {
        "id": "DJVLnXTaxHGg"
      }
    },
    {
      "cell_type": "code",
      "source": [
        "mytuple = (2,2,2,4,2,3,5,6,12,7,3,2,2,8,10,3)\n",
        "x = mytuple.count(3)\n",
        "print(x)"
      ],
      "metadata": {
        "colab": {
          "base_uri": "https://localhost:8080/",
          "height": 0
        },
        "id": "Di_EuAUnxZCI",
        "outputId": "fe1b81cc-ec86-428c-8ee5-a839b4bcd4db"
      },
      "execution_count": 20,
      "outputs": [
        {
          "output_type": "stream",
          "name": "stdout",
          "text": [
            "3\n"
          ]
        }
      ]
    },
    {
      "cell_type": "markdown",
      "source": [
        "count() - No of times '3' appears in the tuple"
      ],
      "metadata": {
        "id": "xAFfxc2iyRB6"
      }
    },
    {
      "cell_type": "code",
      "source": [
        "x = mytuple.index(12)\n",
        "print(x)"
      ],
      "metadata": {
        "colab": {
          "base_uri": "https://localhost:8080/",
          "height": 0
        },
        "id": "sjSiV2uDyYrA",
        "outputId": "d65137ed-4d0c-49d4-8d3e-84310d3d8db9"
      },
      "execution_count": 21,
      "outputs": [
        {
          "output_type": "stream",
          "name": "stdout",
          "text": [
            "8\n"
          ]
        }
      ]
    },
    {
      "cell_type": "markdown",
      "source": [
        "Index()- Shows the first occurence of '12'"
      ],
      "metadata": {
        "id": "hki4KWWvyp6-"
      }
    },
    {
      "cell_type": "code",
      "source": [
        "dir(set)"
      ],
      "metadata": {
        "colab": {
          "base_uri": "https://localhost:8080/"
        },
        "id": "DXEStA3tO14v",
        "outputId": "40328a9e-4b76-4fc1-f595-90100fb956cd"
      },
      "execution_count": 62,
      "outputs": [
        {
          "output_type": "execute_result",
          "data": {
            "text/plain": [
              "['__and__',\n",
              " '__class__',\n",
              " '__contains__',\n",
              " '__delattr__',\n",
              " '__dir__',\n",
              " '__doc__',\n",
              " '__eq__',\n",
              " '__format__',\n",
              " '__ge__',\n",
              " '__getattribute__',\n",
              " '__gt__',\n",
              " '__hash__',\n",
              " '__iand__',\n",
              " '__init__',\n",
              " '__init_subclass__',\n",
              " '__ior__',\n",
              " '__isub__',\n",
              " '__iter__',\n",
              " '__ixor__',\n",
              " '__le__',\n",
              " '__len__',\n",
              " '__lt__',\n",
              " '__ne__',\n",
              " '__new__',\n",
              " '__or__',\n",
              " '__rand__',\n",
              " '__reduce__',\n",
              " '__reduce_ex__',\n",
              " '__repr__',\n",
              " '__ror__',\n",
              " '__rsub__',\n",
              " '__rxor__',\n",
              " '__setattr__',\n",
              " '__sizeof__',\n",
              " '__str__',\n",
              " '__sub__',\n",
              " '__subclasshook__',\n",
              " '__xor__',\n",
              " 'add',\n",
              " 'clear',\n",
              " 'copy',\n",
              " 'difference',\n",
              " 'difference_update',\n",
              " 'discard',\n",
              " 'intersection',\n",
              " 'intersection_update',\n",
              " 'isdisjoint',\n",
              " 'issubset',\n",
              " 'issuperset',\n",
              " 'pop',\n",
              " 'remove',\n",
              " 'symmetric_difference',\n",
              " 'symmetric_difference_update',\n",
              " 'union',\n",
              " 'update']"
            ]
          },
          "metadata": {},
          "execution_count": 62
        }
      ]
    },
    {
      "cell_type": "markdown",
      "source": [
        "**Shows all possible actions and properties of sets.**"
      ],
      "metadata": {
        "id": "N9_WhtdtO55l"
      }
    },
    {
      "cell_type": "code",
      "source": [
        "myset = {\"Mary\", \"Ben\", \"Isabel\", \"Bobby\"}\n",
        "print(myset)"
      ],
      "metadata": {
        "colab": {
          "base_uri": "https://localhost:8080/",
          "height": 0
        },
        "id": "uIuFq8GCyyb3",
        "outputId": "24a5cd8f-3bd4-46cc-ca31-fe524d1c0bdb"
      },
      "execution_count": 23,
      "outputs": [
        {
          "output_type": "stream",
          "name": "stdout",
          "text": [
            "{'Mary', 'Ben', 'Isabel', 'Bobby'}\n"
          ]
        }
      ]
    },
    {
      "cell_type": "markdown",
      "source": [
        "#Sets\n",
        "#Unordered and Unindexed"
      ],
      "metadata": {
        "id": "WCx-_eV3zQxh"
      }
    },
    {
      "cell_type": "code",
      "source": [
        "myset.add(\"Pavi\")\n",
        "print(myset)"
      ],
      "metadata": {
        "colab": {
          "base_uri": "https://localhost:8080/",
          "height": 0
        },
        "id": "eHR5_l5Qzcai",
        "outputId": "fdcff437-1e9d-4ead-c395-d56ec24a7f6c"
      },
      "execution_count": 24,
      "outputs": [
        {
          "output_type": "stream",
          "name": "stdout",
          "text": [
            "{'Mary', 'Bobby', 'Isabel', 'Pavi', 'Ben'}\n"
          ]
        }
      ]
    },
    {
      "cell_type": "markdown",
      "source": [
        "Add an element to the set"
      ],
      "metadata": {
        "id": "uOeqTx7Czrkw"
      }
    },
    {
      "cell_type": "code",
      "source": [
        "myset.clear()\n",
        "print(myset)"
      ],
      "metadata": {
        "colab": {
          "base_uri": "https://localhost:8080/",
          "height": 0
        },
        "id": "6QdAgvF_zy_N",
        "outputId": "b94c9e79-7ae3-437d-e91a-e3a99cb049af"
      },
      "execution_count": 26,
      "outputs": [
        {
          "output_type": "stream",
          "name": "stdout",
          "text": [
            "set()\n"
          ]
        }
      ]
    },
    {
      "cell_type": "markdown",
      "source": [
        "clear()-Remove all elements in a set"
      ],
      "metadata": {
        "id": "MmPcPvy60CJQ"
      }
    },
    {
      "cell_type": "code",
      "source": [
        "myset = {\"Pavi\", \"Mary\", \"Aby\"}\n",
        "x = myset.pop()\n",
        "print(x)"
      ],
      "metadata": {
        "colab": {
          "base_uri": "https://localhost:8080/",
          "height": 0
        },
        "id": "nFQcnv0C0FWh",
        "outputId": "532b0699-45d9-484b-9e2f-3470bdb140d5"
      },
      "execution_count": 33,
      "outputs": [
        {
          "output_type": "stream",
          "name": "stdout",
          "text": [
            "Mary\n"
          ]
        }
      ]
    },
    {
      "cell_type": "markdown",
      "source": [
        "pop() - Remove a random item from a set"
      ],
      "metadata": {
        "id": "sRdhNbA_1fDO"
      }
    },
    {
      "cell_type": "code",
      "source": [
        "x = {1,2,3}\n",
        "y = {4,5,3,7}\n",
        "z = x.union(y)\n",
        "print(z)"
      ],
      "metadata": {
        "colab": {
          "base_uri": "https://localhost:8080/",
          "height": 0
        },
        "id": "eLnuxNvq1kor",
        "outputId": "ce19176b-6cde-4a12-e9c9-1cd0fa1cdbd2"
      },
      "execution_count": 35,
      "outputs": [
        {
          "output_type": "stream",
          "name": "stdout",
          "text": [
            "{1, 2, 3, 4, 5, 7}\n"
          ]
        }
      ]
    },
    {
      "cell_type": "markdown",
      "source": [
        "Returns all items from both sets, duplicates are excluded"
      ],
      "metadata": {
        "id": "XOqOcbBD2Jyo"
      }
    },
    {
      "cell_type": "code",
      "source": [
        "myset.remove(\"Aby\")\n",
        "print(myset)"
      ],
      "metadata": {
        "colab": {
          "base_uri": "https://localhost:8080/",
          "height": 0
        },
        "id": "sUViur3n2eaG",
        "outputId": "e80db8d4-07ae-4acd-b5ba-f03ba7dc079f"
      },
      "execution_count": 36,
      "outputs": [
        {
          "output_type": "stream",
          "name": "stdout",
          "text": [
            "{'Pavi'}\n"
          ]
        }
      ]
    },
    {
      "cell_type": "markdown",
      "source": [
        "remove() - Remove an element from the set"
      ],
      "metadata": {
        "id": "P-8HN2C-3fH9"
      }
    },
    {
      "cell_type": "code",
      "source": [
        "myset = {\"gems\", \"snickers\", \"kitkat\"}\n",
        "chocolates = myset.copy()\n",
        "print(chocolates)"
      ],
      "metadata": {
        "colab": {
          "base_uri": "https://localhost:8080/"
        },
        "id": "tROh6Ds2PvrK",
        "outputId": "89e9ba23-ba5d-41d1-cb3b-d01a4ecac5e1"
      },
      "execution_count": 69,
      "outputs": [
        {
          "output_type": "stream",
          "name": "stdout",
          "text": [
            "{'gems', 'snickers', 'kitkat'}\n"
          ]
        }
      ]
    },
    {
      "cell_type": "markdown",
      "source": [
        "copy() - Make a copy of myset."
      ],
      "metadata": {
        "id": "kX1ObBoWRm4Q"
      }
    },
    {
      "cell_type": "code",
      "source": [
        "myset = {\"gems\", \"snickers\", \"kitkat\"}\n",
        "newset = {\"kitkat\", \"munch\",\"dairy\"}\n",
        "x = myset.difference(newset)\n",
        "print(x)"
      ],
      "metadata": {
        "colab": {
          "base_uri": "https://localhost:8080/"
        },
        "id": "PDsmUKrERtUD",
        "outputId": "53821dae-8e60-4a5a-ee01-c8adf619ce4d"
      },
      "execution_count": 70,
      "outputs": [
        {
          "output_type": "stream",
          "name": "stdout",
          "text": [
            "{'gems', 'snickers'}\n"
          ]
        }
      ]
    },
    {
      "cell_type": "markdown",
      "source": [
        "difference() - Returns items exists only in myset not in newset"
      ],
      "metadata": {
        "id": "ItwE2TbPSSN2"
      }
    },
    {
      "cell_type": "code",
      "source": [
        "myset.discard(\"gems\")\n",
        "print(myset)"
      ],
      "metadata": {
        "colab": {
          "base_uri": "https://localhost:8080/"
        },
        "id": "d1HBIemFSecs",
        "outputId": "18804854-56a6-4d2d-99be-e579ec8bf7c8"
      },
      "execution_count": 71,
      "outputs": [
        {
          "output_type": "stream",
          "name": "stdout",
          "text": [
            "{'snickers', 'kitkat'}\n"
          ]
        }
      ]
    },
    {
      "cell_type": "markdown",
      "source": [
        "discard() - To remove a specific item"
      ],
      "metadata": {
        "id": "iFlhdzDpS13B"
      }
    },
    {
      "cell_type": "code",
      "source": [
        "x = myset.intersection(newset)\n",
        "print(x)"
      ],
      "metadata": {
        "colab": {
          "base_uri": "https://localhost:8080/"
        },
        "id": "8fHM2qdCS5Ls",
        "outputId": "bbc5efe0-7fa3-4aa2-93da-2d930c063132"
      },
      "execution_count": 72,
      "outputs": [
        {
          "output_type": "stream",
          "name": "stdout",
          "text": [
            "{'kitkat'}\n"
          ]
        }
      ]
    },
    {
      "cell_type": "markdown",
      "source": [
        "intersection() - shows items in both myset and newset"
      ],
      "metadata": {
        "id": "mwXydcdgTONd"
      }
    },
    {
      "cell_type": "code",
      "source": [
        "x = myset.isdisjoint(newset)\n",
        "print(x)"
      ],
      "metadata": {
        "colab": {
          "base_uri": "https://localhost:8080/"
        },
        "id": "ApW9Du5JTSTS",
        "outputId": "55d96eab-8ab4-418c-e959-8accfe887a08"
      },
      "execution_count": 74,
      "outputs": [
        {
          "output_type": "stream",
          "name": "stdout",
          "text": [
            "False\n"
          ]
        }
      ]
    },
    {
      "cell_type": "markdown",
      "source": [
        "Shows one or more items are present in both sets"
      ],
      "metadata": {
        "id": "do6sbhavUUho"
      }
    },
    {
      "cell_type": "code",
      "source": [
        "x = myset.issubset(newset)\n",
        "print(x)"
      ],
      "metadata": {
        "colab": {
          "base_uri": "https://localhost:8080/"
        },
        "id": "sB2IYeVNUgZr",
        "outputId": "f9a1c48e-de15-4b46-bb30-1fde873aa596"
      },
      "execution_count": 75,
      "outputs": [
        {
          "output_type": "stream",
          "name": "stdout",
          "text": [
            "False\n"
          ]
        }
      ]
    },
    {
      "cell_type": "markdown",
      "source": [
        "All items in myset is not present in newset"
      ],
      "metadata": {
        "id": "WgeBnlJkUvhz"
      }
    },
    {
      "cell_type": "code",
      "source": [
        "x = myset.issuperset(newset)\n",
        "print(x)"
      ],
      "metadata": {
        "colab": {
          "base_uri": "https://localhost:8080/"
        },
        "id": "lEj5rPjEU3l0",
        "outputId": "e7f7aea8-ab8b-4de2-cf71-8eede1aa872d"
      },
      "execution_count": 76,
      "outputs": [
        {
          "output_type": "stream",
          "name": "stdout",
          "text": [
            "False\n"
          ]
        }
      ]
    },
    {
      "cell_type": "markdown",
      "source": [
        "All items in newset is not present in myset"
      ],
      "metadata": {
        "id": "UPNYpOsaVGCC"
      }
    },
    {
      "cell_type": "code",
      "source": [
        "myset={1,2,3}\n",
        "newset={11,12,13}\n",
        "myset.update(newset)\n",
        "print(myset)"
      ],
      "metadata": {
        "colab": {
          "base_uri": "https://localhost:8080/"
        },
        "id": "88WlM_N4VNXn",
        "outputId": "deb43a31-e7a7-4230-bd29-da233122110f"
      },
      "execution_count": 79,
      "outputs": [
        {
          "output_type": "stream",
          "name": "stdout",
          "text": [
            "{1, 2, 3, 11, 12, 13}\n"
          ]
        }
      ]
    },
    {
      "cell_type": "markdown",
      "source": [
        "Insert items from newset into myset"
      ],
      "metadata": {
        "id": "d4ntiEyjWAnp"
      }
    },
    {
      "cell_type": "code",
      "source": [
        "dir(dict)"
      ],
      "metadata": {
        "colab": {
          "base_uri": "https://localhost:8080/"
        },
        "id": "yWszlt2jWH6I",
        "outputId": "11208d64-70a5-4a39-902b-a3fa234279fd"
      },
      "execution_count": 81,
      "outputs": [
        {
          "output_type": "execute_result",
          "data": {
            "text/plain": [
              "['__class__',\n",
              " '__contains__',\n",
              " '__delattr__',\n",
              " '__delitem__',\n",
              " '__dir__',\n",
              " '__doc__',\n",
              " '__eq__',\n",
              " '__format__',\n",
              " '__ge__',\n",
              " '__getattribute__',\n",
              " '__getitem__',\n",
              " '__gt__',\n",
              " '__hash__',\n",
              " '__init__',\n",
              " '__init_subclass__',\n",
              " '__iter__',\n",
              " '__le__',\n",
              " '__len__',\n",
              " '__lt__',\n",
              " '__ne__',\n",
              " '__new__',\n",
              " '__reduce__',\n",
              " '__reduce_ex__',\n",
              " '__repr__',\n",
              " '__setattr__',\n",
              " '__setitem__',\n",
              " '__sizeof__',\n",
              " '__str__',\n",
              " '__subclasshook__',\n",
              " 'clear',\n",
              " 'copy',\n",
              " 'fromkeys',\n",
              " 'get',\n",
              " 'items',\n",
              " 'keys',\n",
              " 'pop',\n",
              " 'popitem',\n",
              " 'setdefault',\n",
              " 'update',\n",
              " 'values']"
            ]
          },
          "metadata": {},
          "execution_count": 81
        }
      ]
    },
    {
      "cell_type": "markdown",
      "source": [
        "**Shows all possible actions of dictionaries**"
      ],
      "metadata": {
        "id": "rqrc1nf8WU4O"
      }
    },
    {
      "cell_type": "code",
      "source": [
        "mydict = {\"name\":\"Pavi\", \"Birth date\":\"1999\",\"Place\":\"Kerala\"} \n",
        "for k,v in mydict.items():\n",
        "  print(\"key = \", k, end=\",\")\n",
        "  print(\" value = \", v)\n"
      ],
      "metadata": {
        "colab": {
          "base_uri": "https://localhost:8080/"
        },
        "id": "fZ2ldYWW3jgC",
        "outputId": "8bc3291d-cbe6-4df4-9637-e97c920b65af"
      },
      "execution_count": 88,
      "outputs": [
        {
          "output_type": "stream",
          "name": "stdout",
          "text": [
            "key =  name, value =  Pavi\n",
            "key =  Birth date, value =  1999\n",
            "key =  Place, value =  Kerala\n"
          ]
        }
      ]
    },
    {
      "cell_type": "markdown",
      "source": [
        "#Dictionary\n",
        "#Store data values in key:value pairs\n"
      ],
      "metadata": {
        "id": "0yWHtlnK4fup"
      }
    },
    {
      "cell_type": "code",
      "source": [
        "samedict = mydict.copy()\n",
        "print(samedict)"
      ],
      "metadata": {
        "colab": {
          "base_uri": "https://localhost:8080/",
          "height": 0
        },
        "id": "T6azWACS475n",
        "outputId": "3dc1aa91-5c02-4aa4-bbc6-ca1d16eab4a3"
      },
      "execution_count": 38,
      "outputs": [
        {
          "output_type": "stream",
          "name": "stdout",
          "text": [
            "{'name': 'Pavi', 'Birth date': '1999', 'Place': 'Kerala'}\n"
          ]
        }
      ]
    },
    {
      "cell_type": "markdown",
      "source": [
        "To copy the dictionary"
      ],
      "metadata": {
        "id": "SJSFXJI_6Fc7"
      }
    },
    {
      "cell_type": "code",
      "source": [
        "x = mydict.get(\"Place\")\n",
        "print(x)"
      ],
      "metadata": {
        "colab": {
          "base_uri": "https://localhost:8080/",
          "height": 0
        },
        "id": "OPDr9GXr6NB6",
        "outputId": "231cebd2-2d02-41f1-c7ad-715543c7003f"
      },
      "execution_count": 40,
      "outputs": [
        {
          "output_type": "stream",
          "name": "stdout",
          "text": [
            "Kerala\n"
          ]
        }
      ]
    },
    {
      "cell_type": "markdown",
      "source": [
        "Get the value of 'place'"
      ],
      "metadata": {
        "id": "8icZHRKr6tdK"
      }
    },
    {
      "cell_type": "code",
      "source": [
        "mydict.pop(\"Place\")\n",
        "print(mydict)"
      ],
      "metadata": {
        "colab": {
          "base_uri": "https://localhost:8080/"
        },
        "id": "9S6yJ42O6zzw",
        "outputId": "8d909dd8-ccb2-4d6d-b113-5261c65600d0"
      },
      "execution_count": 48,
      "outputs": [
        {
          "output_type": "stream",
          "name": "stdout",
          "text": [
            "{'name': 'Pavi', 'Birth date': '1999'}\n"
          ]
        }
      ]
    },
    {
      "cell_type": "markdown",
      "source": [
        "Remove 'place' from dictionary"
      ],
      "metadata": {
        "id": "sLAZH_YB8qcm"
      }
    },
    {
      "cell_type": "code",
      "source": [
        "mydict.clear()\n",
        "print(mydict)"
      ],
      "metadata": {
        "colab": {
          "base_uri": "https://localhost:8080/"
        },
        "id": "gSle8Tv_8weN",
        "outputId": "aaa609b7-b4fa-4341-db40-6a65079abea0"
      },
      "execution_count": 49,
      "outputs": [
        {
          "output_type": "stream",
          "name": "stdout",
          "text": [
            "{}\n"
          ]
        }
      ]
    },
    {
      "cell_type": "markdown",
      "source": [
        "Remove all elements from dictionary"
      ],
      "metadata": {
        "id": "Gbzdt7Uh8_2v"
      }
    },
    {
      "cell_type": "code",
      "source": [
        "x = (\"name\", \"age\", \"place\")\n",
        "y = 20\n",
        "mydict = dict.fromkeys(x,y)\n",
        "print(mydict)"
      ],
      "metadata": {
        "colab": {
          "base_uri": "https://localhost:8080/"
        },
        "id": "wdc9QZHl9KC5",
        "outputId": "e5517f27-35e4-426b-fbbb-9ad994490bcd"
      },
      "execution_count": 90,
      "outputs": [
        {
          "output_type": "stream",
          "name": "stdout",
          "text": [
            "{'name': 20, 'age': 20, 'place': 20}\n"
          ]
        }
      ]
    },
    {
      "cell_type": "markdown",
      "source": [
        "fromkeys() - Returns all keys with a specified value."
      ],
      "metadata": {
        "id": "vu-nlAbOZMBP"
      }
    },
    {
      "cell_type": "code",
      "source": [
        "mydict = {\"name\":\"Pavi\",\"age\":\"22\", \"place\":\"Kerala\"}\n",
        "bio = mydict.items()\n",
        "print(bio)\n"
      ],
      "metadata": {
        "colab": {
          "base_uri": "https://localhost:8080/"
        },
        "id": "kjsGx4sGZTCD",
        "outputId": "07dcb67a-8f6c-42fc-b2a1-76ff5376b58d"
      },
      "execution_count": 92,
      "outputs": [
        {
          "output_type": "stream",
          "name": "stdout",
          "text": [
            "dict_items([('name', 'Pavi'), ('age', '22'), ('place', 'Kerala')])\n"
          ]
        }
      ]
    },
    {
      "cell_type": "markdown",
      "source": [
        "items() - returns key value pairs"
      ],
      "metadata": {
        "id": "tLKdu1Sqairw"
      }
    },
    {
      "cell_type": "code",
      "source": [
        "bio = mydict.keys()\n",
        "print(bio)"
      ],
      "metadata": {
        "colab": {
          "base_uri": "https://localhost:8080/"
        },
        "id": "pIdl2t-1anSq",
        "outputId": "ce0d387a-f0a3-48f6-d84b-8f47ef1c56d1"
      },
      "execution_count": 93,
      "outputs": [
        {
          "output_type": "stream",
          "name": "stdout",
          "text": [
            "dict_keys(['name', 'age', 'place'])\n"
          ]
        }
      ]
    },
    {
      "cell_type": "markdown",
      "source": [
        "keys() - return the keys in mydict"
      ],
      "metadata": {
        "id": "BHdIbm7PbGue"
      }
    },
    {
      "cell_type": "code",
      "source": [
        "mydict.popitem()\n",
        "print(mydict)"
      ],
      "metadata": {
        "colab": {
          "base_uri": "https://localhost:8080/"
        },
        "id": "SQgStpmMbN9L",
        "outputId": "b33a42e5-0296-4b23-b7fc-ef7bf6ed12cc"
      },
      "execution_count": 94,
      "outputs": [
        {
          "output_type": "stream",
          "name": "stdout",
          "text": [
            "{'name': 'Pavi', 'age': '22'}\n"
          ]
        }
      ]
    },
    {
      "cell_type": "markdown",
      "source": [
        "popitem() - Remove last item from mydict"
      ],
      "metadata": {
        "id": "p5ByfMdubd_Z"
      }
    },
    {
      "cell_type": "code",
      "source": [
        "mydict.update({\"gender\":\"female\"})\n",
        "print(mydict)"
      ],
      "metadata": {
        "colab": {
          "base_uri": "https://localhost:8080/"
        },
        "id": "kDDsAaxebia3",
        "outputId": "4263758d-8198-498c-955b-06aec8c12de5"
      },
      "execution_count": 95,
      "outputs": [
        {
          "output_type": "stream",
          "name": "stdout",
          "text": [
            "{'name': 'Pavi', 'age': '22', 'gender': 'female'}\n"
          ]
        }
      ]
    },
    {
      "cell_type": "markdown",
      "source": [
        "update()-Insert a new item to dictionary"
      ],
      "metadata": {
        "id": "kvMlfwkPb9bY"
      }
    },
    {
      "cell_type": "code",
      "source": [
        "details = mydict.values()\n",
        "print(details)"
      ],
      "metadata": {
        "colab": {
          "base_uri": "https://localhost:8080/"
        },
        "id": "wn4o4obvcCRN",
        "outputId": "7ad1f153-0d73-40cb-c8e3-56eb746cbb9d"
      },
      "execution_count": 97,
      "outputs": [
        {
          "output_type": "stream",
          "name": "stdout",
          "text": [
            "dict_values(['Pavi', '22', 'female'])\n"
          ]
        }
      ]
    },
    {
      "cell_type": "markdown",
      "source": [
        "values() - returns the values of a dictionary"
      ],
      "metadata": {
        "id": "jpe6tebgcpDh"
      }
    }
  ]
}